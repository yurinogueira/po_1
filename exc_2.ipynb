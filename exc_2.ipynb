{
 "cells": [
  {
   "cell_type": "code",
   "execution_count": 1,
   "id": "initial_id",
   "metadata": {
    "ExecuteTime": {
     "end_time": "2024-11-05T16:07:06.537071Z",
     "start_time": "2024-11-05T16:07:06.535292Z"
    },
    "collapsed": true
   },
   "outputs": [],
   "source": [
    "import numpy as np\n",
    "import mip as mp"
   ]
  },
  {
   "cell_type": "code",
   "execution_count": 2,
   "id": "434e9bca41238770",
   "metadata": {
    "ExecuteTime": {
     "end_time": "2024-11-05T16:07:06.582929Z",
     "start_time": "2024-11-05T16:07:06.581062Z"
    }
   },
   "outputs": [],
   "source": [
    "barrels = [3500, 2200, 4200, 1800]\n",
    "barrels_price = [19, 24, 20, 27]\n",
    "gas_price = [35, 28, 22]\n",
    "\n",
    "gas_restrictions = [\n",
    "    [(0, 0.3), (1, 0.4), (2, 0.5)],\n",
    "    [(0, 0.3), (1, 0.1)],\n",
    "    [(0, 0.7)]\n",
    "]"
   ]
  },
  {
   "cell_type": "code",
   "execution_count": 14,
   "id": "97fcecae3a94a7a9",
   "metadata": {
    "ExecuteTime": {
     "end_time": "2024-11-05T16:11:06.570016Z",
     "start_time": "2024-11-05T16:11:06.562491Z"
    }
   },
   "outputs": [
    {
     "name": "stdout",
     "output_type": "stream",
     "text": [
      "Starting solution of the Linear programming problem using Primal Simplex\n",
      "\n",
      "Coin0506I Presolve 10 (0) rows, 12 (0) columns and 40 (0) elements\n",
      "Clp1000I sum of infeasibilities 1.34895e-05 - average 1.34895e-06, 1 fixed columns\n",
      "Coin0506I Presolve 9 (-1) rows, 10 (-2) columns and 36 (-4) elements\n",
      "Clp0006I 0  Obj 15853.605 Primal inf 3753.8106 (3) Dual inf 6.8142857e+12 (10)\n",
      "Clp0029I End of values pass after 10 iterations\n",
      "Clp0000I Optimal - objective value 112870\n",
      "Clp0000I Optimal - objective value 112870\n",
      "Coin0511I After Postsolve, objective 112870, infeasibilities - dual 0 (0), primal 0 (0)\n",
      "Clp0006I 0  Obj 112870\n",
      "Clp0000I Optimal - objective value 112870\n",
      "Clp0000I Optimal - objective value 112870\n",
      "Clp0000I Optimal - objective value 112870\n",
      "Clp0032I Optimal objective 112870 - 0 iterations time 0.002, Idiot 0.00\n"
     ]
    },
    {
     "data": {
      "text/plain": [
       "<OptimizationStatus.OPTIMAL: 0>"
      ]
     },
     "execution_count": 14,
     "metadata": {},
     "output_type": "execute_result"
    }
   ],
   "source": [
    "m = mp.Model()\n",
    "\n",
    "x = [[m.add_var(var_type=mp.CONTINUOUS) for j in range(4)] for i in range(3)]\n",
    "\n",
    "for j in range(4):\n",
    "    m += mp.xsum(x[i][j] for i in range(3)) <= barrels[j]\n",
    "\n",
    "for j in range(3):\n",
    "    for i, value in enumerate(gas_restrictions[j]):\n",
    "        m += x[value[0]][j] <= mp.xsum(x[j][i] for i in range(4)) * value[1]\n",
    "\n",
    "m.objective = mp.maximize(\n",
    "    mp.xsum(gas_price[j] * x[j][i] for i in range(4) for j in range(3)) - mp.xsum(barrels_price[i] * x[j][i] for i in range(4) for j in range(3))\n",
    ")\n",
    "\n",
    "m.optimize()"
   ]
  },
  {
   "cell_type": "code",
   "execution_count": null,
   "id": "a9abaa0e20fb04c5",
   "metadata": {
    "ExecuteTime": {
     "end_time": "2024-11-05T16:11:09.890215Z",
     "start_time": "2024-11-05T16:11:09.887428Z"
    }
   },
   "outputs": [
    {
     "name": "stdout",
     "output_type": "stream",
     "text": [
      "Amount of Super Blue Gas: 1593.0000\n",
      "Petrol type 1 used: 1593.0000\n",
      "Petrol type 2 used: 1917.0000\n",
      "Petrol type 3 used: 0.0000\n",
      "Petrol type 4 used: 1800.0000\n",
      "Amount of Blue Gas: 1907.0000\n",
      "Petrol type 1 used: 1907.0000\n",
      "Petrol type 2 used: 283.0000\n",
      "Petrol type 3 used: 4200.0000\n",
      "Petrol type 4 used: 0.0000\n",
      "Amount of Green Gas: 0.0000\n",
      "Petrol type 1 used: 0.0000\n",
      "Petrol type 2 used: 0.0000\n",
      "Petrol type 3 used: 0.0000\n",
      "Petrol type 4 used: 0.0000\n",
      "Total income: 112870.0000\n"
     ]
    }
   ],
   "source": [
    "for i, gas_type in enumerate([\"Super Blue Gas\", \"Blue Gas\", \"Yellow Gas\"]):\n",
    "    print(f\"Amount of {gas_type}: {x[i][0].x:.4f}\")\n",
    "    for j, petrol_type in enumerate([\"type 1\", \"type 2\", \"type 3\", \"type 4\"]):\n",
    "        print(f\"Petrol {petrol_type} used: {x[i][j].x:.4f}\")\n",
    "\n",
    "print(f\"Total income: {m.objective_value:.4f}\")"
   ]
  }
 ],
 "metadata": {
  "kernelspec": {
   "display_name": "env",
   "language": "python",
   "name": "python3"
  },
  "language_info": {
   "codemirror_mode": {
    "name": "ipython",
    "version": 3
   },
   "file_extension": ".py",
   "mimetype": "text/x-python",
   "name": "python",
   "nbconvert_exporter": "python",
   "pygments_lexer": "ipython3",
   "version": "3.12.7"
  }
 },
 "nbformat": 4,
 "nbformat_minor": 5
}
