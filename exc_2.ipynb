{
 "cells": [
  {
   "cell_type": "code",
   "execution_count": 34,
   "id": "9d226124",
   "metadata": {},
   "outputs": [],
   "source": [
    "import numpy as np\n",
    "import mip as mp"
   ]
  },
  {
   "cell_type": "code",
   "execution_count": 35,
   "id": "4cc6d036",
   "metadata": {},
   "outputs": [],
   "source": [
    "gas_price = [35, 28, 22]\n",
    "barrels_price = [19, 24, 20, 27]\n",
    "barrels = [3500, 2200, 4200, 1800]"
   ]
  },
  {
   "cell_type": "code",
   "execution_count": 42,
   "id": "97fcecae3a94a7a9",
   "metadata": {
    "ExecuteTime": {
     "end_time": "2024-11-05T16:11:06.570016Z",
     "start_time": "2024-11-05T16:11:06.562491Z"
    }
   },
   "outputs": [
    {
     "name": "stdout",
     "output_type": "stream",
     "text": [
      "Starting solution of the Linear programming problem using Primal Simplex\n",
      "\n",
      "Coin0506I Presolve 9 (-1) rows, 11 (-1) columns and 35 (-1) elements\n",
      "Clp1000I sum of infeasibilities 0.000843855 - average 9.37616e-05, 4 fixed columns\n",
      "Coin0506I Presolve 7 (-2) rows, 6 (-5) columns and 24 (-11) elements\n",
      "Clp0006I 0  Obj 99777.793 Primal inf 0.0010265311 (5) Dual inf 5.8888889e+12 (6)\n",
      "Clp0029I End of values pass after 6 iterations\n",
      "Clp0000I Optimal - objective value 99777.778\n",
      "Clp0000I Optimal - objective value 99777.778\n",
      "Coin0511I After Postsolve, objective 99777.778, infeasibilities - dual 0 (0), primal 0 (0)\n",
      "Clp0006I 0  Obj 99777.778\n",
      "Clp0000I Optimal - objective value 99777.778\n",
      "Clp0000I Optimal - objective value 99777.778\n",
      "Clp0000I Optimal - objective value 99777.778\n",
      "Coin0511I After Postsolve, objective 99777.778, infeasibilities - dual 0 (0), primal 0 (0)\n",
      "Clp0032I Optimal objective 99777.77778 - 0 iterations time 0.002, Presolve 0.00, Idiot 0.00\n"
     ]
    },
    {
     "data": {
      "text/plain": [
       "<OptimizationStatus.OPTIMAL: 0>"
      ]
     },
     "execution_count": 42,
     "metadata": {},
     "output_type": "execute_result"
    }
   ],
   "source": [
    "m = mp.Model()\n",
    "\n",
    "x = [[m.add_var(name=f\"x_{i}_{j}\", lb=0) for j in range(3)] for i in range(4)]\n",
    "\n",
    "revenue = mp.xsum(x[i][j] * gas_price[j] for i in range(4) for j in range(3))\n",
    "cost = mp.xsum(x[i][j] * barrels_price[i] for i in range(4) for j in range(3))\n",
    "\n",
    "m.objective = mp.maximize(revenue - cost)\n",
    "\n",
    "for i in range(4):\n",
    "    m += mp.xsum(x[i][j] for j in range(3)) <= barrels[i]\n",
    "\n",
    "# Super blue\n",
    "total_super_blue = mp.xsum(x[i][0] for i in range(4))\n",
    "\n",
    "m += x[0][0] <= 0.3 * total_super_blue\n",
    "m += x[1][0] >= 0.4 * total_super_blue\n",
    "m += x[2][0] <= 0.5 * total_super_blue\n",
    "\n",
    "# Blue\n",
    "total_blue = mp.xsum(x[i][1] for i in range(4))\n",
    "\n",
    "m += x[0][1] <= 0.3 * total_blue\n",
    "m += x[1][1] >= 0.1 * total_blue\n",
    "\n",
    "# Yellow\n",
    "total_yellow = mp.xsum(x[i][2] for i in range(4))\n",
    "\n",
    "m += x[0][2] <= 0.7 * mp.xsum(x[i][2] for i in range(4))\n",
    "\n",
    "m.optimize()"
   ]
  },
  {
   "cell_type": "code",
   "execution_count": 43,
   "id": "efd14667",
   "metadata": {},
   "outputs": [
    {
     "name": "stdout",
     "output_type": "stream",
     "text": [
      "Amount of petrol type 1 used for gas Super Blue: 1033.33 barris\n",
      "Amount of petrol type 1 used for gas Blue: 2466.67 barris\n",
      "Amount of petrol type 1 used for gas Yellow: 0.00 barris\n",
      "Amount of petrol type 2 used for gas Super Blue: 1377.78 barris\n",
      "Amount of petrol type 2 used for gas Blue: 822.22 barris\n",
      "Amount of petrol type 2 used for gas Yellow: 0.00 barris\n",
      "Amount of petrol type 3 used for gas Super Blue: 0.00 barris\n",
      "Amount of petrol type 3 used for gas Blue: 4200.00 barris\n",
      "Amount of petrol type 3 used for gas Yellow: 0.00 barris\n",
      "Amount of petrol type 4 used for gas Super Blue: 1033.33 barris\n",
      "Amount of petrol type 4 used for gas Blue: 733.33 barris\n",
      "Amount of petrol type 4 used for gas Yellow: 0.00 barris\n",
      "Revenue: 350777.78\n",
      "Cost: 251000.00\n",
      "Income: 99777.78\n"
     ]
    }
   ],
   "source": [
    "for i in range(4):\n",
    "    for j in range(3):\n",
    "        gas_names = [\"Super Blue\", \"Blue\", \"Yellow\"]\n",
    "        var = m.var_by_name(f\"x_{i}_{j}\")\n",
    "        print(f\"Amount of petrol type {i + 1} used for gas {gas_names[j]}: {var.x:.2f} barris\")\n",
    "\n",
    "total_revenue = revenue.x\n",
    "total_cost = cost.x\n",
    "    \n",
    "print(f\"Revenue: {total_revenue:.2f}\")\n",
    "print(f\"Cost: {total_cost:.2f}\")\n",
    "print(f\"Income: {total_revenue - total_cost:.2f}\")"
   ]
  }
 ],
 "metadata": {
  "kernelspec": {
   "display_name": "env",
   "language": "python",
   "name": "python3"
  },
  "language_info": {
   "codemirror_mode": {
    "name": "ipython",
    "version": 3
   },
   "file_extension": ".py",
   "mimetype": "text/x-python",
   "name": "python",
   "nbconvert_exporter": "python",
   "pygments_lexer": "ipython3",
   "version": "3.12.7"
  }
 },
 "nbformat": 4,
 "nbformat_minor": 5
}
