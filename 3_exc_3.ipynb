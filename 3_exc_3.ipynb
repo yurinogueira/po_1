{
 "cells": [
  {
   "cell_type": "code",
   "execution_count": 1,
   "metadata": {},
   "outputs": [],
   "source": [
    "import numpy as np\n",
    "import mip as mp\n",
    "import matplotlib.pyplot as plt"
   ]
  },
  {
   "cell_type": "code",
   "execution_count": 8,
   "metadata": {},
   "outputs": [
    {
     "name": "stdout",
     "output_type": "stream",
     "text": [
      "Starting solution of the Linear programming problem using Primal Simplex\n",
      "\n",
      "Coin0506I Presolve 0 (-6) rows, 0 (-6) columns and 0 (-6) elements\n",
      "Clp0000I Optimal - objective value 26850000\n",
      "Coin0511I After Postsolve, objective 26850000, infeasibilities - dual 0 (0), primal 0 (0)\n",
      "Clp0032I Optimal objective 26850000 - 0 iterations time 0.002, Presolve 0.00, Idiot 0.00\n"
     ]
    },
    {
     "data": {
      "text/plain": [
       "<OptimizationStatus.OPTIMAL: 0>"
      ]
     },
     "execution_count": 8,
     "metadata": {},
     "output_type": "execute_result"
    }
   ],
   "source": [
    "m = mp.Model()\n",
    "\n",
    "A1 = m.add_var(name='Gasolina na destilação', var_type=mp.CONTINUOUS)\n",
    "A2 = m.add_var(name='Óleo/gás na destilação', var_type=mp.CONTINUOUS)\n",
    "B1 = m.add_var(name='Gasolina na dessulfurização', var_type=mp.CONTINUOUS)\n",
    "B2 = m.add_var(name='Óleo/gás na dessulfurização', var_type=mp.CONTINUOUS)\n",
    "C1 = m.add_var(name='Gasolina na reforma', var_type=mp.CONTINUOUS)\n",
    "C2 = m.add_var(name='Óleo/gás no cracking', var_type=mp.CONTINUOUS)\n",
    "\n",
    "m.objective = mp.maximize(10 * (A1 + B1 + C1) + 7 * (A2 + B2 + C2))\n",
    "\n",
    "m += A1 <= 500000\n",
    "m += A2 <= 600000\n",
    "m += B1 <= 700000\n",
    "m += B2 <= 500000\n",
    "m += C1 <= 400000\n",
    "m += C2 <= 450000\n",
    "\n",
    "m.optimize()"
   ]
  },
  {
   "cell_type": "code",
   "execution_count": 9,
   "metadata": {},
   "outputs": [
    {
     "name": "stdout",
     "output_type": "stream",
     "text": [
      "Gasolina na destilação: 500000\n",
      "Óleo/gás na destilação: 600000\n",
      "Gasolina na dessulfurização: 700000\n",
      "Óleo/gás na dessulfurização: 500000\n",
      "Gasolina na reforma: 400000\n",
      "Óleo/gás no cracking: 450000\n",
      "Max return: 26850000\n"
     ]
    }
   ],
   "source": [
    "print(f\"Gasolina na destilação: {A1.x:.0f}\")\n",
    "print(f\"Óleo/gás na destilação: {A2.x:.0f}\")\n",
    "print(f\"Gasolina na dessulfurização: {B1.x:.0f}\")\n",
    "print(f\"Óleo/gás na dessulfurização: {B2.x:.0f}\")\n",
    "print(f\"Gasolina na reforma: {C1.x:.0f}\")\n",
    "print(f\"Óleo/gás no cracking: {C2.x:.0f}\")\n",
    "print(f\"Max return: {m.objective_value:.0f}\")"
   ]
  }
 ],
 "metadata": {
  "kernelspec": {
   "display_name": "env",
   "language": "python",
   "name": "python3"
  },
  "language_info": {
   "codemirror_mode": {
    "name": "ipython",
    "version": 3
   },
   "file_extension": ".py",
   "mimetype": "text/x-python",
   "name": "python",
   "nbconvert_exporter": "python",
   "pygments_lexer": "ipython3",
   "version": "3.12.7"
  }
 },
 "nbformat": 4,
 "nbformat_minor": 2
}
